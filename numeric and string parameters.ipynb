{
 "cells": [
  {
   "cell_type": "code",
   "execution_count": 9,
   "id": "7d8a77ef-6e13-4c8c-9640-ae051335d601",
   "metadata": {},
   "outputs": [],
   "source": [
    "import numpy as np\n",
    "import pandas as pd\n",
    "import matplotlib.pyplot as plt\n",
    "from sklearn import linear_model\n",
    "from sklearn.model_selection import train_test_split\n",
    "from sklearn.preprocessing import OneHotEncoder\n",
    "from sklearn.metrics import mean_squared_error, r2_score"
   ]
  },
  {
   "cell_type": "code",
   "execution_count": 11,
   "id": "6d3a1eba-ecbf-4218-8865-4e0f28c89d5d",
   "metadata": {},
   "outputs": [],
   "source": [
    "\n",
    "# بارگذاری داده‌ها\n",
    "df = pd.read_csv(\"housePrice.csv\")\n",
    "\n",
    "# حذف ردیف‌هایی که حداقل در یک ستون مقدار خالی دارند\n",
    "df = df.dropna()\n",
    "\n",
    "# حذف متراژهای غیر عددی\n",
    "df = df[df['Area'].apply(lambda x: str(x).replace('.', '', 1).isdigit())]\n",
    "\n",
    "# تبدیل مقادیر ستون 'Area' به نوع عددی\n",
    "df['Area'] = pd.to_numeric(df['Area'], errors='coerce')\n",
    "\n",
    "# حذف ردیف‌هایی که مقدار 'Area' آنها عددی نیست (یعنی تبدیل به NaN شده‌اند)\n",
    "df = df.dropna(subset=['Area'])"
   ]
  },
  {
   "cell_type": "code",
   "execution_count": 13,
   "id": "283fe34c-b01c-4327-8de6-fbebfacb57b8",
   "metadata": {},
   "outputs": [],
   "source": [
    "# انتخاب ویژگی‌ها و برچسب‌ها\n",
    "cdf = df[['Area','Room','Address', \"Price(USD)\"]]\n",
    "\n",
    "# کدگذاری ویژگی‌های رشته‌ای\n",
    "encoder = OneHotEncoder(sparse_output=False)\n",
    "encoded_features = encoder.fit_transform(cdf[['Address']])\n",
    "encoded_df = pd.DataFrame(encoded_features, columns=encoder.get_feature_names_out(['Address']))\n",
    "\n",
    "# ترکیب ویژگی‌های کدگذاری شده با DataFrame اصلی\n",
    "cdf = pd.concat([cdf[['Area', 'Room', \"Price(USD)\"]], encoded_df], axis=1)\n",
    "\n",
    "cdf = cdf.dropna()"
   ]
  },
  {
   "cell_type": "code",
   "execution_count": null,
   "id": "9f1b49e9-3ec8-4a30-9180-166f6bcb43f6",
   "metadata": {},
   "outputs": [],
   "source": [
    "# تقسیم داده‌ها به مجموعه‌های آموزشی و تست\n",
    "train, test = train_test_split(cdf, test_size=0.2, random_state=42)\n",
    "\n",
    "# جدا کردن ویژگی‌ها و برچسب‌ها\n",
    "x_train = train.drop(columns=[\"Price(USD)\"])\n",
    "y_train = train[\"Price(USD)\"]\n",
    "x_test = test.drop(columns=[\"Price(USD)\"])\n",
    "y_test = test[\"Price(USD)\"]\n",
    "\n"
   ]
  }
 ],
 "metadata": {
  "kernelspec": {
   "display_name": "Python 3 (ipykernel)",
   "language": "python",
   "name": "python3"
  },
  "language_info": {
   "codemirror_mode": {
    "name": "ipython",
    "version": 3
   },
   "file_extension": ".py",
   "mimetype": "text/x-python",
   "name": "python",
   "nbconvert_exporter": "python",
   "pygments_lexer": "ipython3",
   "version": "3.12.4"
  }
 },
 "nbformat": 4,
 "nbformat_minor": 5
}
